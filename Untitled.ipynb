{
 "cells": [
  {
   "cell_type": "code",
<<<<<<< HEAD
   "execution_count": 1,
=======
   "execution_count": 23,
>>>>>>> 1b0c5823cc7bc89d847e641fedf422f526508249
   "metadata": {},
   "outputs": [],
   "source": [
    "import numpy as np\n",
    "from astropy.io import fits\n",
    "import astropy.units as u\n",
    "from IPython.display import clear_output\n",
    "from pathlib import Path\n",
    "from importlib import reload\n",
    "import time\n",
    "import os\n",
    "\n",
    "import cupy as cp\n",
    "\n",
    "import poppy\n",
    "from poppy.poppy_core import PlaneType\n",
    "\n",
    "import misc\n",
    "\n",
    "# set debugging mode for more information from POPPY as propagation is performed\n",
    "import logging, sys\n",
    "poppy_log = logging.getLogger('poppy')\n",
    "poppy_log.setLevel('DEBUG')\n",
    "logging.basicConfig(stream=sys.stdout, level=logging.INFO)\n",
    "\n",
    "poppy_log.disabled = False\n",
    "\n",
<<<<<<< HEAD
    "poppy.conf.use_cupy = True"
=======
    "poppy.conf.use_cupy = False\n",
    "poppy.accel_math.update_math_settings()"
>>>>>>> 1b0c5823cc7bc89d847e641fedf422f526508249
   ]
  },
  {
   "cell_type": "code",
<<<<<<< HEAD
   "execution_count": 2,
=======
   "execution_count": 25,
   "metadata": {},
   "outputs": [
    {
     "data": {
      "text/plain": [
       "<module 'numpy' from 'C:\\\\Users\\\\Kian\\\\anaconda3\\\\envs\\\\poppy-env\\\\lib\\\\site-packages\\\\numpy\\\\__init__.py'>"
      ]
     },
     "execution_count": 25,
     "metadata": {},
     "output_type": "execute_result"
    }
   ],
   "source": [
    "_np"
   ]
  },
  {
   "cell_type": "code",
   "execution_count": 24,
   "metadata": {},
   "outputs": [],
   "source": [
    "import numpy as np\n",
    "from poppy.accel_math import _ncp as _np\n",
    "from poppy.accel_math import ensure_not_on_gpu\n",
    "import astropy.units as u\n",
    "from astropy.io import fits\n",
    "\n",
    "from poppy import poppy_core\n",
    "from poppy import optics\n",
    "from poppy import zernike\n",
    "from poppy import wfe\n",
    "from poppy import physical_wavefront\n",
    "\n",
    "NWAVES = 0.5\n",
    "WAVELENGTH = 1e-6\n",
    "RADIUS = 1.0\n",
    "NPIX = 101\n",
    "DIAM = 3.0\n",
    "\n",
    "CN2 = 1e-14*u.m**(-2/3)\n",
    "DZ = 50.0*u.m\n",
    "\n",
    "seed = 12345678  # Use fixed seed to ensure reproducible test behavior.\n",
    "                 # This particular value is arbitrary; any 32-bit int should work here.\n",
    "\n",
    "def test_KolmogorovWFE_stats():\n",
    "    # verify statistics of random numbers\n",
    "    KolmogorovWFE = wfe.KolmogorovWFE(Cn2=CN2, dz=DZ, seed=seed)\n",
    "    npix = 1024\n",
    "    a = KolmogorovWFE.rand_turbulent(npix)\n",
    "    b = KolmogorovWFE.rand_symmetrized(npix, 1)\n",
    "    c = KolmogorovWFE.rand_symmetrized(npix, -1)\n",
    "\n",
    "    assert(np.round(np.abs(np.mean(a)), 2) == np.round(0.0, 2))\n",
    "    assert(np.round(np.var(a), 2) == np.round(1.0, 2))\n",
    "    assert(np.round(np.mean(b), 2) == np.round(0.0, 2))\n",
    "    assert(np.round(np.var(b), 2) == np.round(1.0, 2))\n",
    "    assert(np.round(np.mean(c), 2) == np.round(0.0, 2))\n",
    "    assert(np.round(np.var(c), 2) == np.round(1.0, 2))\n",
    "\n",
    "def test_KolmogorovWFE_Cn2():\n",
    "    # verify correct calculation of Cn2 from Fried parameter\n",
    "    lam = WAVELENGTH*u.m\n",
    "    dz = 50.0*u.m\n",
    "    r0 = 0.185*(lam**2/CN2/dz)**(3.0/5.0) # analytical equation\n",
    "    KolmogorovWFE = wfe.KolmogorovWFE(r0=r0, dz=dz, seed=seed)\n",
    "    Cn2_test = KolmogorovWFE.get_Cn2(lam)\n",
    "\n",
    "    assert(np.round(Cn2_test.value, 9) == np.round(CN2.value, 9))\n",
    "\n",
    "def test_KolmogorovWFE_ps():\n",
    "    # verify that first element of power spectrum is zero\n",
    "    npix = 64\n",
    "    wf = poppy_core.Wavefront(wavelength=WAVELENGTH*u.m,\n",
    "                              npix=npix,\n",
    "                              diam=3.0)\n",
    "    KolmogorovWFE = wfe.KolmogorovWFE(Cn2=CN2, dz=DZ, inner_scale=1*u.cm, outer_scale=10*u.m, seed=seed)\n",
    "\n",
    "    ps1 = KolmogorovWFE.power_spectrum(wf, kind='Kolmogorov')\n",
    "    ps2 = KolmogorovWFE.power_spectrum(wf, kind='Tatarski')\n",
    "    ps3 = KolmogorovWFE.power_spectrum(wf, kind='von Karman')\n",
    "    ps4 = KolmogorovWFE.power_spectrum(wf, kind='Hill')\n",
    "\n",
    "    assert(np.round(ps1[0,0], 9) == np.round(0.0, 9))\n",
    "    assert(np.round(ps2[0,0], 9) == np.round(0.0, 9))\n",
    "    assert(np.round(ps3[0,0], 9) == np.round(0.0, 9))\n",
    "    assert(np.round(ps4[0,0], 9) == np.round(0.0, 9))\n",
    "\n",
    "def test_KolmogorovWFE_correlation(num_ensemble = 2000, npix = 64):\n",
    "    # verify correlation of random numbers\n",
    "    KolmogorovWFE = wfe.KolmogorovWFE(Cn2=CN2, dz=DZ, seed=seed)\n",
    "\n",
    "\n",
    "    average = np.zeros((npix, npix), dtype=complex)\n",
    "    for j in range(num_ensemble):\n",
    "        KolmogorovWFE.seed += j\n",
    "        a = KolmogorovWFE.rand_turbulent(npix)\n",
    "        for l in range(npix):\n",
    "            for m in range(npix):\n",
    "                average[l, m] += np.sum(a[:, l])*np.sum(np.conj(a[:, m]))/num_ensemble/npix\n",
    "\n",
    "    for l in range(npix):\n",
    "        for m in range(npix):\n",
    "            if l == m:\n",
    "                average[l, m] -= 1.0\n",
    "\n",
    "    assert(np.max(np.abs(average.real)) < 0.1)\n",
    "    assert(np.max(np.abs(average.imag)) < 0.1)\n",
    "\n",
    "def test_get_opd():\n",
    "    npix = 64\n",
    "    wf = poppy_core.Wavefront(wavelength=WAVELENGTH*u.m,\n",
    "                              npix=npix,\n",
    "                              diam=3.0)\n",
    "    KolmogorovWFE = wfe.KolmogorovWFE(Cn2=CN2, dz=DZ, inner_scale=1*u.cm, outer_scale=10*u.m, seed=seed)\n",
    "    opd = KolmogorovWFE.get_opd(wf)\n",
    "    assert(np.round(np.sum(opd), 9) == np.round(0.0, 9))\n"
   ]
  },
  {
   "cell_type": "code",
   "execution_count": 27,
   "metadata": {},
   "outputs": [],
   "source": [
    "# test_KolmogorovWFE_stats()\n",
    "# test_KolmogorovWFE_Cn2()\n",
    "# test_KolmogorovWFE_ps()\n",
    "test_KolmogorovWFE_correlation(num_ensemble=800, npix=32)\n",
    "# test_get_opd()"
   ]
  },
  {
   "cell_type": "code",
   "execution_count": 5,
>>>>>>> 1b0c5823cc7bc89d847e641fedf422f526508249
   "metadata": {
    "scrolled": false
   },
   "outputs": [
    {
<<<<<<< HEAD
     "name": "stdout",
     "output_type": "stream",
     "text": [
      "INFO:poppy:Initialized OpticalSystem: unnamed system\n",
      "INFO:poppy:Added pupil plane: Asymmetric Parity Test Aperture, radius=1.0 m\n",
      "INFO:poppy:Added image plane: -empty-\n",
      "INFO:poppy:Added pupil plane: Asymmetric Parity Test Aperture, radius=1.0 m\n",
      "INFO:poppy:Added detector with pixelscale=0.02 and oversampling=2: Detector\n",
      "INFO:poppy:Calculating PSF with 1 wavelengths\n",
      "INFO:poppy:User requested saving intermediate wavefronts in call to poppy.calc_psf\n",
      "INFO:poppy: Propagating wavelength = 1e-06 m\n",
      "INFO:poppy:You did not define npix either on the OpticalSystem or its first optic; defaulting to 1024 pixels.\n",
      "DEBUG:poppy:Input wavefront has wavelength=1e-06 m, npix=1024, diam=2, pixel scale=0.00195 meters/pixel\n",
      "DEBUG:poppy:  Wavefront and optic Asymmetric Parity Test Aperture, radius=1.0 m already at same plane type, no propagation needed.\n",
      "DEBUG:poppy:  Multiplied WF by phasor for Pupil plane: Asymmetric Parity Test Aperture, radius=1.0 m\n",
      "DEBUG:poppy:normalizing at first plane (entrance pupil) to 1.0 total intensity\n",
      "DEBUG:poppy:  Propagating wavefront to Image plane: -empty-. \n",
      "DEBUG:poppy:    Padded WF array for oversampling by 2x\n",
      "DEBUG:poppy:using mkl_fft FFT of (2048, 2048) array, FFT_direction=backward\n",
      "DEBUG:poppy:    FFT_2D: FFT in 0.096065 s, full function  in 0.115 s\n",
      "DEBUG:poppy:  Multiplied WF by phasor for Image plane: -empty-\n",
      "DEBUG:poppy:  Propagating wavefront to Pupil plane: Asymmetric Parity Test Aperture, radius=1.0 m. \n",
      "DEBUG:poppy:using mkl_fft FFT of (2048, 2048) array, FFT_direction=forward\n",
      "DEBUG:poppy:    FFT_2D: FFT in 0.093819 s, full function  in 0.114 s\n",
      "DEBUG:poppy:  Multiplied WF by phasor for Pupil plane: Asymmetric Parity Test Aperture, radius=1.0 m\n",
      "DEBUG:poppy:  Propagating wavefront to Detector plane: Detector (512x512 pixels, 0.020 arcsec / pix). \n",
      "DEBUG:poppy:MatrixFourierTransform initialized using centering type = ADJUSTABLE\n",
      "DEBUG:poppy:    Propagating w/ MFT: 0.0100 arcsec / pix     fov=99.290 lam/D    npix=1024\n",
      "DEBUG:poppy:      MFT method = ADJUSTABLE\n",
      "DEBUG:poppy:Forward MatrixFourierTransform: array shape (1024, 1024), centering style ADJUSTABLE, output region size 99.28984189123297 in lambda / D units, output array size 1024.0 pixels, offset None\n",
      "DEBUG:poppy:     Result wavefront: at=after Asymmetric Parity Test Aperture, radius=1.0 m shape=(1024, 1024) \n",
      "INFO:poppy:  Calculation completed in 1.566 s\n",
      "INFO:poppy:PSF Calculation completed.\n",
      "INFO:poppy:Calculating PSF with 1 wavelengths\n",
      "INFO:poppy:User requested saving intermediate wavefronts in call to poppy.calc_psf\n",
      "DEBUG:poppy:Trying to reload wisdom from file /home/u21/kianmilani/.astropy/config/poppy_fftw_wisdom.json\n",
      "DEBUG:poppy:Reloaded double precision wisdom: True\n",
      "DEBUG:poppy:Reloaded single precision wisdom: True\n",
      "DEBUG:poppy:Reloaded longdouble precision wisdom: True\n",
      "DEBUG:poppy:Reloaded _FFTW_INIT list of optimized array sizes \n",
      "INFO:poppy: Propagating wavelength = 1e-06 m\n",
      "INFO:poppy:You did not define npix either on the OpticalSystem or its first optic; defaulting to 1024 pixels.\n",
      "DEBUG:poppy:Input wavefront has wavelength=1e-06 m, npix=1024, diam=2, pixel scale=0.00195 meters/pixel\n",
      "DEBUG:poppy:  Wavefront and optic Asymmetric Parity Test Aperture, radius=1.0 m already at same plane type, no propagation needed.\n",
      "DEBUG:poppy:  Multiplied WF by phasor for Pupil plane: Asymmetric Parity Test Aperture, radius=1.0 m\n",
      "DEBUG:poppy:normalizing at first plane (entrance pupil) to 1.0 total intensity\n",
      "DEBUG:poppy:  Propagating wavefront to Image plane: -empty-. \n",
      "DEBUG:poppy:    Padded WF array for oversampling by 2x\n",
      "DEBUG:poppy:using mkl_fft FFT of (2048, 2048) array, FFT_direction=backward\n",
      "DEBUG:poppy:    FFT_2D: FFT in 0.101960 s, full function  in 0.124 s\n",
      "DEBUG:poppy:  Multiplied WF by phasor for Image plane: -empty-\n",
      "DEBUG:poppy:  Propagating wavefront to Pupil plane: Asymmetric Parity Test Aperture, radius=1.0 m. \n",
      "DEBUG:poppy:using mkl_fft FFT of (2048, 2048) array, FFT_direction=forward\n",
      "DEBUG:poppy:    FFT_2D: FFT in 0.100374 s, full function  in 0.122 s\n",
      "DEBUG:poppy:  Multiplied WF by phasor for Pupil plane: Asymmetric Parity Test Aperture, radius=1.0 m\n",
      "DEBUG:poppy:  Propagating wavefront to Detector plane: Detector (512x512 pixels, 0.020 arcsec / pix). \n",
      "DEBUG:poppy:MatrixFourierTransform initialized using centering type = ADJUSTABLE\n",
      "DEBUG:poppy:    Propagating w/ MFT: 0.0100 arcsec / pix     fov=99.290 lam/D    npix=1024\n",
      "DEBUG:poppy:      MFT method = ADJUSTABLE\n",
      "DEBUG:poppy:Forward MatrixFourierTransform: array shape (1024, 1024), centering style ADJUSTABLE, output region size 99.28984189123297 in lambda / D units, output array size 1024.0 pixels, offset None\n",
      "DEBUG:poppy:     Result wavefront: at=after Asymmetric Parity Test Aperture, radius=1.0 m shape=(1024, 1024) \n",
      "INFO:poppy:  Calculation completed in 1.584 s\n",
      "DEBUG:poppy:FFTW wisdom saved to /home/u21/kianmilani/.astropy/config/poppy_fftw_wisdom.json\n",
      "INFO:poppy:PSF Calculation completed.\n"
=======
     "ename": "KeyboardInterrupt",
     "evalue": "",
     "output_type": "error",
     "traceback": [
      "\u001b[1;31m---------------------------------------------------------------------------\u001b[0m",
      "\u001b[1;31mKeyboardInterrupt\u001b[0m                         Traceback (most recent call last)",
      "Input \u001b[1;32mIn [5]\u001b[0m, in \u001b[0;36m<cell line: 11>\u001b[1;34m()\u001b[0m\n\u001b[0;32m      1\u001b[0m \u001b[38;5;28;01mfrom\u001b[39;00m \u001b[38;5;21;01mpoppy\u001b[39;00m\u001b[38;5;21;01m.\u001b[39;00m\u001b[38;5;21;01mtests\u001b[39;00m \u001b[38;5;28;01mimport\u001b[39;00m test_accel_math, test_fft, test_fresnel, test_physical_wavefront, test_wfe\n\u001b[0;32m      2\u001b[0m \u001b[38;5;66;03m# test_accel_math.test_benchmark_fft()\u001b[39;00m\n\u001b[0;32m      3\u001b[0m \u001b[38;5;66;03m# test_fresnel.test_GaussianBeamParams()\u001b[39;00m\n\u001b[0;32m      4\u001b[0m \u001b[38;5;66;03m# test_fresnel.test_Circular_Aperture_PTP_short()\u001b[39;00m\n\u001b[1;32m   (...)\u001b[0m\n\u001b[0;32m      9\u001b[0m \u001b[38;5;66;03m# test_wfe.test_StatisticalPSDWFE(plot=True)\u001b[39;00m\n\u001b[0;32m     10\u001b[0m \u001b[38;5;66;03m# test_wfe.test_PowerSpectrumWFE(plot=True)\u001b[39;00m\n\u001b[1;32m---> 11\u001b[0m \u001b[43mtest_wfe\u001b[49m\u001b[38;5;241;43m.\u001b[39;49m\u001b[43mtest_KolmogorovWFE\u001b[49m\u001b[43m(\u001b[49m\u001b[43m)\u001b[49m\n",
      "File \u001b[1;32mc:\\users\\kian\\documents\\src\\poppy\\poppy\\tests\\test_wfe.py:368\u001b[0m, in \u001b[0;36mtest_KolmogorovWFE\u001b[1;34m()\u001b[0m\n\u001b[0;32m    366\u001b[0m test_KolmogorovWFE_Cn2()\n\u001b[0;32m    367\u001b[0m test_KolmogorovWFE_ps()\n\u001b[1;32m--> 368\u001b[0m \u001b[43mtest_KolmogorovWFE_correlation\u001b[49m\u001b[43m(\u001b[49m\u001b[43mnum_ensemble\u001b[49m\u001b[38;5;241;43m=\u001b[39;49m\u001b[38;5;241;43m800\u001b[39;49m\u001b[43m,\u001b[49m\u001b[43m \u001b[49m\u001b[43mnpix\u001b[49m\u001b[38;5;241;43m=\u001b[39;49m\u001b[38;5;241;43m32\u001b[39;49m\u001b[43m)\u001b[49m\n\u001b[0;32m    369\u001b[0m test_get_opd()\n",
      "File \u001b[1;32mc:\\users\\kian\\documents\\src\\poppy\\poppy\\tests\\test_wfe.py:346\u001b[0m, in \u001b[0;36mtest_KolmogorovWFE.<locals>.test_KolmogorovWFE_correlation\u001b[1;34m(num_ensemble, npix)\u001b[0m\n\u001b[0;32m    344\u001b[0m     \u001b[38;5;28;01mfor\u001b[39;00m l \u001b[38;5;129;01min\u001b[39;00m \u001b[38;5;28mrange\u001b[39m(npix):\n\u001b[0;32m    345\u001b[0m         \u001b[38;5;28;01mfor\u001b[39;00m m \u001b[38;5;129;01min\u001b[39;00m \u001b[38;5;28mrange\u001b[39m(npix):\n\u001b[1;32m--> 346\u001b[0m             average[l, m] \u001b[38;5;241m+\u001b[39m\u001b[38;5;241m=\u001b[39m \u001b[43mnp\u001b[49m\u001b[38;5;241;43m.\u001b[39;49m\u001b[43msum\u001b[49m\u001b[43m(\u001b[49m\u001b[43ma\u001b[49m\u001b[43m[\u001b[49m\u001b[43m:\u001b[49m\u001b[43m,\u001b[49m\u001b[43m \u001b[49m\u001b[43ml\u001b[49m\u001b[43m]\u001b[49m\u001b[43m)\u001b[49m\u001b[38;5;241;43m*\u001b[39;49m\u001b[43mnp\u001b[49m\u001b[38;5;241;43m.\u001b[39;49m\u001b[43msum\u001b[49m\u001b[43m(\u001b[49m\u001b[43mnp\u001b[49m\u001b[38;5;241;43m.\u001b[39;49m\u001b[43mconj\u001b[49m\u001b[43m(\u001b[49m\u001b[43ma\u001b[49m\u001b[43m[\u001b[49m\u001b[43m:\u001b[49m\u001b[43m,\u001b[49m\u001b[43m \u001b[49m\u001b[43mm\u001b[49m\u001b[43m]\u001b[49m\u001b[43m)\u001b[49m\u001b[43m)\u001b[49m\u001b[38;5;241;43m/\u001b[39;49m\u001b[43mnum_ensemble\u001b[49m\u001b[38;5;241m/\u001b[39mnpix\n\u001b[0;32m    348\u001b[0m \u001b[38;5;28;01mfor\u001b[39;00m l \u001b[38;5;129;01min\u001b[39;00m \u001b[38;5;28mrange\u001b[39m(npix):\n\u001b[0;32m    349\u001b[0m     \u001b[38;5;28;01mfor\u001b[39;00m m \u001b[38;5;129;01min\u001b[39;00m \u001b[38;5;28mrange\u001b[39m(npix):\n",
      "\u001b[1;31mKeyboardInterrupt\u001b[0m: "
>>>>>>> 1b0c5823cc7bc89d847e641fedf422f526508249
     ]
    }
   ],
   "source": [
<<<<<<< HEAD
    "from poppy.tests import test_accel_math, test_fft, test_fresnel, test_physical_wavefront\n",
    "# test_accel_math.test_benchmark_fft()\n",
    "# test_fresnel.test_GaussianBeamParams()\n",
    "# test_fresnel.test_Circular_Aperture_PTP_short()\n",
    "test_fft.test_pyfftw_vs_numpyfft()\n",
    "# test_physical_wavefront.test_M2()"
=======
    "from poppy.tests import test_accel_math, test_fft, test_fresnel, test_physical_wavefront, test_wfe\n",
    "# test_accel_math.test_benchmark_fft()\n",
    "# test_fresnel.test_GaussianBeamParams()\n",
    "# test_fresnel.test_Circular_Aperture_PTP_short()\n",
    "# test_fft.test_pyfftw_vs_numpyfft()\n",
    "# test_physical_wavefront.test_M2()\n",
    "\n",
    "test_wfe.test_ZernikeAberration()\n",
    "# test_wfe.test_ParameterizedAberration()\n",
    "# test_wfe.test_StatisticalPSDWFE(plot=True)\n",
    "# test_wfe.test_PowerSpectrumWFE(plot=True)\n",
    "# test_wfe.test_KolmogorovWFE()\n",
    "# test_wfe.test_ThermalBloomingWFE_rho()"
   ]
  },
  {
   "cell_type": "code",
   "execution_count": 8,
   "metadata": {},
   "outputs": [
    {
     "data": {
      "text/plain": [
       "<cupy._indexing.iterate.flatiter at 0x1cf8da00b50>"
      ]
     },
     "execution_count": 8,
     "metadata": {},
     "output_type": "execute_result"
    }
   ],
   "source": [
    "a = cp.ones((10,10))\n",
    "a.flat"
>>>>>>> 1b0c5823cc7bc89d847e641fedf422f526508249
   ]
  },
  {
   "cell_type": "code",
   "execution_count": 3,
   "metadata": {},
   "outputs": [
    {
     "data": {
      "text/plain": [
       "True"
      ]
     },
     "execution_count": 3,
     "metadata": {},
     "output_type": "execute_result"
    }
   ],
   "source": [
    "poppy.conf.use_cupy"
   ]
  },
  {
   "cell_type": "code",
   "execution_count": null,
   "metadata": {},
   "outputs": [],
   "source": []
  }
 ],
 "metadata": {
  "kernelspec": {
<<<<<<< HEAD
   "display_name": "poppy39-exp-env",
   "language": "python",
   "name": "poppy39-exp-env"
=======
   "display_name": "Python 3 (ipykernel)",
   "language": "python",
   "name": "python3"
>>>>>>> 1b0c5823cc7bc89d847e641fedf422f526508249
  },
  "language_info": {
   "codemirror_mode": {
    "name": "ipython",
    "version": 3
   },
   "file_extension": ".py",
   "mimetype": "text/x-python",
   "name": "python",
   "nbconvert_exporter": "python",
   "pygments_lexer": "ipython3",
<<<<<<< HEAD
   "version": "3.9.12"
=======
   "version": "3.9.6"
>>>>>>> 1b0c5823cc7bc89d847e641fedf422f526508249
  }
 },
 "nbformat": 4,
 "nbformat_minor": 4
}
