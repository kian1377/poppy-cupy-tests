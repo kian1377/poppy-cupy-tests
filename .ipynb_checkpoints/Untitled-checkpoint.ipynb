{
 "cells": [
  {
   "cell_type": "code",
   "execution_count": 1,
   "metadata": {},
   "outputs": [],
   "source": [
    "import numpy as np\n",
    "from astropy.io import fits\n",
    "import astropy.units as u\n",
    "from IPython.display import clear_output\n",
    "from pathlib import Path\n",
    "from importlib import reload\n",
    "import time\n",
    "import os\n",
    "\n",
    "import cupy as cp\n",
    "\n",
    "import poppy\n",
    "from poppy.poppy_core import PlaneType\n",
    "\n",
    "import misc\n",
    "\n",
    "# set debugging mode for more information from POPPY as propagation is performed\n",
    "import logging, sys\n",
    "poppy_log = logging.getLogger('poppy')\n",
    "poppy_log.setLevel('DEBUG')\n",
    "logging.basicConfig(stream=sys.stdout, level=logging.INFO)\n",
    "\n",
    "poppy_log.disabled = False\n",
    "\n",
    "poppy.conf.use_cupy = True"
   ]
  },
  {
   "cell_type": "code",
   "execution_count": 2,
   "metadata": {
    "scrolled": false
   },
   "outputs": [
    {
     "name": "stdout",
     "output_type": "stream",
     "text": [
      "INFO:poppy:Initialized OpticalSystem: unnamed system\n",
      "INFO:poppy:Added pupil plane: Asymmetric Parity Test Aperture, radius=1.0 m\n",
      "INFO:poppy:Added image plane: -empty-\n",
      "INFO:poppy:Added pupil plane: Asymmetric Parity Test Aperture, radius=1.0 m\n",
      "INFO:poppy:Added detector with pixelscale=0.02 and oversampling=2: Detector\n",
      "INFO:poppy:Calculating PSF with 1 wavelengths\n",
      "INFO:poppy:User requested saving intermediate wavefronts in call to poppy.calc_psf\n",
      "INFO:poppy: Propagating wavelength = 1e-06 m\n",
      "INFO:poppy:You did not define npix either on the OpticalSystem or its first optic; defaulting to 1024 pixels.\n",
      "DEBUG:poppy:Input wavefront has wavelength=1e-06 m, npix=1024, diam=2, pixel scale=0.00195 meters/pixel\n",
      "DEBUG:poppy:  Wavefront and optic Asymmetric Parity Test Aperture, radius=1.0 m already at same plane type, no propagation needed.\n",
      "DEBUG:poppy:  Multiplied WF by phasor for Pupil plane: Asymmetric Parity Test Aperture, radius=1.0 m\n",
      "DEBUG:poppy:normalizing at first plane (entrance pupil) to 1.0 total intensity\n",
      "DEBUG:poppy:  Propagating wavefront to Image plane: -empty-. \n",
      "DEBUG:poppy:    Padded WF array for oversampling by 2x\n",
      "DEBUG:poppy:using mkl_fft FFT of (2048, 2048) array, FFT_direction=backward\n",
      "DEBUG:poppy:    FFT_2D: FFT in 0.096065 s, full function  in 0.115 s\n",
      "DEBUG:poppy:  Multiplied WF by phasor for Image plane: -empty-\n",
      "DEBUG:poppy:  Propagating wavefront to Pupil plane: Asymmetric Parity Test Aperture, radius=1.0 m. \n",
      "DEBUG:poppy:using mkl_fft FFT of (2048, 2048) array, FFT_direction=forward\n",
      "DEBUG:poppy:    FFT_2D: FFT in 0.093819 s, full function  in 0.114 s\n",
      "DEBUG:poppy:  Multiplied WF by phasor for Pupil plane: Asymmetric Parity Test Aperture, radius=1.0 m\n",
      "DEBUG:poppy:  Propagating wavefront to Detector plane: Detector (512x512 pixels, 0.020 arcsec / pix). \n",
      "DEBUG:poppy:MatrixFourierTransform initialized using centering type = ADJUSTABLE\n",
      "DEBUG:poppy:    Propagating w/ MFT: 0.0100 arcsec / pix     fov=99.290 lam/D    npix=1024\n",
      "DEBUG:poppy:      MFT method = ADJUSTABLE\n",
      "DEBUG:poppy:Forward MatrixFourierTransform: array shape (1024, 1024), centering style ADJUSTABLE, output region size 99.28984189123297 in lambda / D units, output array size 1024.0 pixels, offset None\n",
      "DEBUG:poppy:     Result wavefront: at=after Asymmetric Parity Test Aperture, radius=1.0 m shape=(1024, 1024) \n",
      "INFO:poppy:  Calculation completed in 1.566 s\n",
      "INFO:poppy:PSF Calculation completed.\n",
      "INFO:poppy:Calculating PSF with 1 wavelengths\n",
      "INFO:poppy:User requested saving intermediate wavefronts in call to poppy.calc_psf\n",
      "DEBUG:poppy:Trying to reload wisdom from file /home/u21/kianmilani/.astropy/config/poppy_fftw_wisdom.json\n",
      "DEBUG:poppy:Reloaded double precision wisdom: True\n",
      "DEBUG:poppy:Reloaded single precision wisdom: True\n",
      "DEBUG:poppy:Reloaded longdouble precision wisdom: True\n",
      "DEBUG:poppy:Reloaded _FFTW_INIT list of optimized array sizes \n",
      "INFO:poppy: Propagating wavelength = 1e-06 m\n",
      "INFO:poppy:You did not define npix either on the OpticalSystem or its first optic; defaulting to 1024 pixels.\n",
      "DEBUG:poppy:Input wavefront has wavelength=1e-06 m, npix=1024, diam=2, pixel scale=0.00195 meters/pixel\n",
      "DEBUG:poppy:  Wavefront and optic Asymmetric Parity Test Aperture, radius=1.0 m already at same plane type, no propagation needed.\n",
      "DEBUG:poppy:  Multiplied WF by phasor for Pupil plane: Asymmetric Parity Test Aperture, radius=1.0 m\n",
      "DEBUG:poppy:normalizing at first plane (entrance pupil) to 1.0 total intensity\n",
      "DEBUG:poppy:  Propagating wavefront to Image plane: -empty-. \n",
      "DEBUG:poppy:    Padded WF array for oversampling by 2x\n",
      "DEBUG:poppy:using mkl_fft FFT of (2048, 2048) array, FFT_direction=backward\n",
      "DEBUG:poppy:    FFT_2D: FFT in 0.101960 s, full function  in 0.124 s\n",
      "DEBUG:poppy:  Multiplied WF by phasor for Image plane: -empty-\n",
      "DEBUG:poppy:  Propagating wavefront to Pupil plane: Asymmetric Parity Test Aperture, radius=1.0 m. \n",
      "DEBUG:poppy:using mkl_fft FFT of (2048, 2048) array, FFT_direction=forward\n",
      "DEBUG:poppy:    FFT_2D: FFT in 0.100374 s, full function  in 0.122 s\n",
      "DEBUG:poppy:  Multiplied WF by phasor for Pupil plane: Asymmetric Parity Test Aperture, radius=1.0 m\n",
      "DEBUG:poppy:  Propagating wavefront to Detector plane: Detector (512x512 pixels, 0.020 arcsec / pix). \n",
      "DEBUG:poppy:MatrixFourierTransform initialized using centering type = ADJUSTABLE\n",
      "DEBUG:poppy:    Propagating w/ MFT: 0.0100 arcsec / pix     fov=99.290 lam/D    npix=1024\n",
      "DEBUG:poppy:      MFT method = ADJUSTABLE\n",
      "DEBUG:poppy:Forward MatrixFourierTransform: array shape (1024, 1024), centering style ADJUSTABLE, output region size 99.28984189123297 in lambda / D units, output array size 1024.0 pixels, offset None\n",
      "DEBUG:poppy:     Result wavefront: at=after Asymmetric Parity Test Aperture, radius=1.0 m shape=(1024, 1024) \n",
      "INFO:poppy:  Calculation completed in 1.584 s\n",
      "DEBUG:poppy:FFTW wisdom saved to /home/u21/kianmilani/.astropy/config/poppy_fftw_wisdom.json\n",
      "INFO:poppy:PSF Calculation completed.\n"
     ]
    }
   ],
   "source": [
    "from poppy.tests import test_accel_math, test_fft, test_fresnel, test_physical_wavefront\n",
    "# test_accel_math.test_benchmark_fft()\n",
    "# test_fresnel.test_GaussianBeamParams()\n",
    "# test_fresnel.test_Circular_Aperture_PTP_short()\n",
    "test_fft.test_pyfftw_vs_numpyfft()\n",
    "# test_physical_wavefront.test_M2()"
   ]
  },
  {
   "cell_type": "code",
   "execution_count": 3,
   "metadata": {},
   "outputs": [
    {
     "data": {
      "text/plain": [
       "True"
      ]
     },
     "execution_count": 3,
     "metadata": {},
     "output_type": "execute_result"
    }
   ],
   "source": [
    "poppy.conf.use_cupy"
   ]
  },
  {
   "cell_type": "code",
   "execution_count": null,
   "metadata": {},
   "outputs": [],
   "source": []
  }
 ],
 "metadata": {
  "kernelspec": {
   "display_name": "poppy39-exp-env",
   "language": "python",
   "name": "poppy39-exp-env"
  },
  "language_info": {
   "codemirror_mode": {
    "name": "ipython",
    "version": 3
   },
   "file_extension": ".py",
   "mimetype": "text/x-python",
   "name": "python",
   "nbconvert_exporter": "python",
   "pygments_lexer": "ipython3",
   "version": "3.9.12"
  }
 },
 "nbformat": 4,
 "nbformat_minor": 4
}
